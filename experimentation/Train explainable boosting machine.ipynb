{
 "cells": [
  {
   "cell_type": "code",
   "execution_count": 19,
   "metadata": {},
   "outputs": [],
   "source": [
    "import pandas as pd\n",
    "from sklearn.model_selection import train_test_split\n",
    "from interpret.glassbox import ExplainableBoostingRegressor\n",
    "from interpret import show"
   ]
  },
  {
   "cell_type": "code",
   "execution_count": 33,
   "metadata": {},
   "outputs": [],
   "source": [
    "df_original = pd.read_csv('../data/preprocessed.csv')"
   ]
  },
  {
   "cell_type": "code",
   "execution_count": 34,
   "metadata": {},
   "outputs": [
    {
     "data": {
      "text/html": [
       "<div>\n",
       "<style scoped>\n",
       "    .dataframe tbody tr th:only-of-type {\n",
       "        vertical-align: middle;\n",
       "    }\n",
       "\n",
       "    .dataframe tbody tr th {\n",
       "        vertical-align: top;\n",
       "    }\n",
       "\n",
       "    .dataframe thead th {\n",
       "        text-align: right;\n",
       "    }\n",
       "</style>\n",
       "<table border=\"1\" class=\"dataframe\">\n",
       "  <thead>\n",
       "    <tr style=\"text-align: right;\">\n",
       "      <th></th>\n",
       "      <th>TYPE_WACHTTIJD</th>\n",
       "      <th>WACHTTIJD</th>\n",
       "      <th>OMS_WACHTTIJD</th>\n",
       "      <th>SPECIALISME</th>\n",
       "      <th>ROAZ_REGIO</th>\n",
       "      <th>NAAM_INSTELLING</th>\n",
       "      <th>TYPE_ZORGINSTELLING</th>\n",
       "    </tr>\n",
       "  </thead>\n",
       "  <tbody>\n",
       "    <tr>\n",
       "      <th>0</th>\n",
       "      <td>Behandeling</td>\n",
       "      <td>90.0</td>\n",
       "      <td>Tonsillectomie en/of adenotomie (kno)</td>\n",
       "      <td>KNO (302)</td>\n",
       "      <td>Noord-NL</td>\n",
       "      <td>Wilhelmina Ziekenhuis</td>\n",
       "      <td>Ziekenhuis</td>\n",
       "    </tr>\n",
       "    <tr>\n",
       "      <th>1</th>\n",
       "      <td>Polikliniekbezoek</td>\n",
       "      <td>21.0</td>\n",
       "      <td>Orthopedie - Heupklachten</td>\n",
       "      <td>Orthopedie (305)</td>\n",
       "      <td>Oost</td>\n",
       "      <td>Stichting Rijnstate Ziekenhuis</td>\n",
       "      <td>Ziekenhuis</td>\n",
       "    </tr>\n",
       "    <tr>\n",
       "      <th>2</th>\n",
       "      <td>Behandeling</td>\n",
       "      <td>166.0</td>\n",
       "      <td>Initiële staaroperatie (oogheelkunde)</td>\n",
       "      <td>Oogheelkunde (301)</td>\n",
       "      <td>SpzNet AMC</td>\n",
       "      <td>Stichting Dijklander Ziekenhuis</td>\n",
       "      <td>Ziekenhuis</td>\n",
       "    </tr>\n",
       "    <tr>\n",
       "      <th>3</th>\n",
       "      <td>Behandeling</td>\n",
       "      <td>14.0</td>\n",
       "      <td>Triggerfingerrelease (plastische chirurgie)</td>\n",
       "      <td>Plastische Chirurgie (304)</td>\n",
       "      <td>Brabant</td>\n",
       "      <td>Xpert Clinics Hand- en polszorg B.V.</td>\n",
       "      <td>Kliniek</td>\n",
       "    </tr>\n",
       "    <tr>\n",
       "      <th>4</th>\n",
       "      <td>Polikliniekbezoek</td>\n",
       "      <td>28.0</td>\n",
       "      <td>Chirurgie (heelkunde) - Proctologie</td>\n",
       "      <td>Chirurgie (heelkunde) (303)</td>\n",
       "      <td>Noord-NL</td>\n",
       "      <td>Ziekenhuis Nij Smellinghe</td>\n",
       "      <td>Ziekenhuis</td>\n",
       "    </tr>\n",
       "  </tbody>\n",
       "</table>\n",
       "</div>"
      ],
      "text/plain": [
       "      TYPE_WACHTTIJD  WACHTTIJD                                OMS_WACHTTIJD  \\\n",
       "0        Behandeling       90.0        Tonsillectomie en/of adenotomie (kno)   \n",
       "1  Polikliniekbezoek       21.0                    Orthopedie - Heupklachten   \n",
       "2        Behandeling      166.0        Initiële staaroperatie (oogheelkunde)   \n",
       "3        Behandeling       14.0  Triggerfingerrelease (plastische chirurgie)   \n",
       "4  Polikliniekbezoek       28.0          Chirurgie (heelkunde) - Proctologie   \n",
       "\n",
       "                   SPECIALISME  ROAZ_REGIO  \\\n",
       "0                    KNO (302)    Noord-NL   \n",
       "1             Orthopedie (305)        Oost   \n",
       "2           Oogheelkunde (301)  SpzNet AMC   \n",
       "3   Plastische Chirurgie (304)     Brabant   \n",
       "4  Chirurgie (heelkunde) (303)    Noord-NL   \n",
       "\n",
       "                         NAAM_INSTELLING TYPE_ZORGINSTELLING  \n",
       "0                  Wilhelmina Ziekenhuis          Ziekenhuis  \n",
       "1         Stichting Rijnstate Ziekenhuis          Ziekenhuis  \n",
       "2        Stichting Dijklander Ziekenhuis          Ziekenhuis  \n",
       "3  Xpert Clinics Hand- en polszorg B.V.              Kliniek  \n",
       "4              Ziekenhuis Nij Smellinghe          Ziekenhuis  "
      ]
     },
     "execution_count": 34,
     "metadata": {},
     "output_type": "execute_result"
    }
   ],
   "source": [
    "df_original.head()"
   ]
  },
  {
   "cell_type": "code",
   "execution_count": 36,
   "metadata": {},
   "outputs": [],
   "source": [
    "df_train, df_test = train_test_split(df_original, test_size=0.2, stratify=df_original[['OMS_WACHTTIJD','TYPE_ZORGINSTELLING', 'SPECIALISME', 'TYPE_WACHTTIJD']])"
   ]
  },
  {
   "cell_type": "code",
   "execution_count": 37,
   "metadata": {},
   "outputs": [
    {
     "name": "stdout",
     "output_type": "stream",
     "text": [
      "<class 'pandas.core.frame.DataFrame'>\n",
      "Int64Index: 160222 entries, 27881 to 33267\n",
      "Data columns (total 7 columns):\n",
      " #   Column               Non-Null Count   Dtype  \n",
      "---  ------               --------------   -----  \n",
      " 0   TYPE_WACHTTIJD       160222 non-null  object \n",
      " 1   WACHTTIJD            160222 non-null  float64\n",
      " 2   OMS_WACHTTIJD        160222 non-null  object \n",
      " 3   SPECIALISME          160222 non-null  object \n",
      " 4   ROAZ_REGIO           160222 non-null  object \n",
      " 5   NAAM_INSTELLING      160222 non-null  object \n",
      " 6   TYPE_ZORGINSTELLING  160222 non-null  object \n",
      "dtypes: float64(1), object(6)\n",
      "memory usage: 9.8+ MB\n"
     ]
    }
   ],
   "source": [
    "df_train.info()"
   ]
  },
  {
   "cell_type": "code",
   "execution_count": 38,
   "metadata": {},
   "outputs": [],
   "source": [
    "df_train_output = df_train[['WACHTTIJD']]\n",
    "df_train_inputs = df_train.drop(['WACHTTIJD','NAAM_INSTELLING'], axis=1)\n",
    "\n",
    "df_test_output = df_test[['WACHTTIJD']]\n",
    "df_test_inputs = df_test.drop(['WACHTTIJD','NAAM_INSTELLING'], axis=1)"
   ]
  },
  {
   "cell_type": "code",
   "execution_count": 39,
   "metadata": {},
   "outputs": [
    {
     "name": "stdout",
     "output_type": "stream",
     "text": [
      "<class 'pandas.core.frame.DataFrame'>\n",
      "Int64Index: 160222 entries, 27881 to 33267\n",
      "Data columns (total 5 columns):\n",
      " #   Column               Non-Null Count   Dtype \n",
      "---  ------               --------------   ----- \n",
      " 0   TYPE_WACHTTIJD       160222 non-null  object\n",
      " 1   OMS_WACHTTIJD        160222 non-null  object\n",
      " 2   SPECIALISME          160222 non-null  object\n",
      " 3   ROAZ_REGIO           160222 non-null  object\n",
      " 4   TYPE_ZORGINSTELLING  160222 non-null  object\n",
      "dtypes: object(5)\n",
      "memory usage: 7.3+ MB\n"
     ]
    }
   ],
   "source": [
    "df_train_inputs.info()"
   ]
  },
  {
   "cell_type": "code",
   "execution_count": 40,
   "metadata": {},
   "outputs": [],
   "source": [
    "model = ExplainableBoostingRegressor(feature_names=df_train_inputs.columns)"
   ]
  },
  {
   "cell_type": "code",
   "execution_count": 41,
   "metadata": {},
   "outputs": [
    {
     "data": {
      "text/plain": [
       "ExplainableBoostingRegressor(feature_names=['TYPE_WACHTTIJD', 'OMS_WACHTTIJD',\n",
       "                                            'SPECIALISME', 'ROAZ_REGIO',\n",
       "                                            'TYPE_ZORGINSTELLING',\n",
       "                                            'TYPE_WACHTTIJD x ROAZ_REGIO',\n",
       "                                            'TYPE_WACHTTIJD x '\n",
       "                                            'TYPE_ZORGINSTELLING',\n",
       "                                            'OMS_WACHTTIJD x ROAZ_REGIO',\n",
       "                                            'ROAZ_REGIO x TYPE_ZORGINSTELLING',\n",
       "                                            'SPECIALISME x ROAZ_REGIO',\n",
       "                                            'OMS_WACHTTIJD x SPECIALISME',\n",
       "                                            'SPECIALISME x TYPE_ZORGINSTELLING',\n",
       "                                            'OMS_WACHTTIJD x '\n",
       "                                            'TYPE_ZORGINSTELLING',\n",
       "                                            'TYPE_WACHTTIJD x OMS_WACHTTIJD',\n",
       "                                            'TYPE_WACHTTIJD x SPECIALISME'],\n",
       "                             feature_types=['categorical', 'categorical',\n",
       "                                            'categorical', 'categorical',\n",
       "                                            'categorical', 'interaction',\n",
       "                                            'interaction', 'interaction',\n",
       "                                            'interaction', 'interaction',\n",
       "                                            'interaction', 'interaction',\n",
       "                                            'interaction', 'interaction',\n",
       "                                            'interaction'])"
      ]
     },
     "execution_count": 41,
     "metadata": {},
     "output_type": "execute_result"
    }
   ],
   "source": [
    "model.fit(df_train_inputs.to_numpy(), df_train_output.to_numpy())"
   ]
  },
  {
   "cell_type": "code",
   "execution_count": 42,
   "metadata": {},
   "outputs": [
    {
     "data": {
      "text/plain": [
       "0.3554438940831097"
      ]
     },
     "execution_count": 42,
     "metadata": {},
     "output_type": "execute_result"
    }
   ],
   "source": [
    "model.score(df_test_inputs.to_numpy(), df_test_output.to_numpy())"
   ]
  },
  {
   "cell_type": "code",
   "execution_count": 43,
   "metadata": {},
   "outputs": [
    {
     "data": {
      "text/html": [
       "<!-- http://127.0.0.1:7001/2352316217856/ -->\n",
       "<iframe src=\"http://127.0.0.1:7001/2352316217856/\" width=100% height=800 frameBorder=\"0\"></iframe>"
      ]
     },
     "metadata": {},
     "output_type": "display_data"
    }
   ],
   "source": [
    "ebm_global = model.explain_global()\n",
    "show(ebm_global)"
   ]
  }
 ],
 "metadata": {
  "kernelspec": {
   "display_name": "Python 3.9.7 64-bit",
   "language": "python",
   "name": "python3"
  },
  "language_info": {
   "codemirror_mode": {
    "name": "ipython",
    "version": 3
   },
   "file_extension": ".py",
   "mimetype": "text/x-python",
   "name": "python",
   "nbconvert_exporter": "python",
   "pygments_lexer": "ipython3",
   "version": "3.9.7"
  },
  "orig_nbformat": 4,
  "vscode": {
   "interpreter": {
    "hash": "86360395df825f2a326494bc1a25db59f819e9c4a571481b8a6b296aee567eac"
   }
  }
 },
 "nbformat": 4,
 "nbformat_minor": 2
}
