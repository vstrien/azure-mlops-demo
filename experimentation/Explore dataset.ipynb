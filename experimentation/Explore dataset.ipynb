{
 "cells": [
  {
   "cell_type": "code",
   "execution_count": 1,
   "metadata": {},
   "outputs": [],
   "source": [
    "import pandas as pd\n",
    "from pandas_profiling import ProfileReport"
   ]
  },
  {
   "cell_type": "code",
   "execution_count": 4,
   "metadata": {},
   "outputs": [],
   "source": [
    "df = pd.read_excel('../data/wachttijden.xlsx')"
   ]
  },
  {
   "cell_type": "code",
   "execution_count": 6,
   "metadata": {},
   "outputs": [
    {
     "name": "stdout",
     "output_type": "stream",
     "text": [
      "<class 'pandas.core.frame.DataFrame'>\n",
      "RangeIndex: 200433 entries, 0 to 200432\n",
      "Data columns (total 21 columns):\n",
      " #   Column                     Non-Null Count   Dtype         \n",
      "---  ------                     --------------   -----         \n",
      " 0   ID                         200433 non-null  float64       \n",
      " 1   NAAM_VESTIGING             200433 non-null  object        \n",
      " 2   KVK_VESTIGING_NR           200429 non-null  object        \n",
      " 3   TYPE_WACHTTIJD             200433 non-null  object        \n",
      " 4   CODE_WACHTTIJD             200433 non-null  object        \n",
      " 5   WACHTTIJD                  188934 non-null  float64       \n",
      " 6   OMS_WACHTTIJD              200433 non-null  object        \n",
      " 7   SPECIALISME                200433 non-null  object        \n",
      " 8   LOCATIECODE                200433 non-null  object        \n",
      " 9   AGBCODE                    200433 non-null  int64         \n",
      " 10  STRAAT                     200433 non-null  object        \n",
      " 11  POSTCODE                   200433 non-null  object        \n",
      " 12  PLAATS                     200424 non-null  object        \n",
      " 13  ROAZ_REGIO                 200433 non-null  object        \n",
      " 14  NAAM_INSTELLING            200433 non-null  object        \n",
      " 15  TYPE_ZORGINSTELLING        200432 non-null  object        \n",
      " 16  DATUM_ZORGBEELD            200433 non-null  int64         \n",
      " 17  WEEK_DAGEN                 200433 non-null  object        \n",
      " 18  JAARMAAND                  200433 non-null  int64         \n",
      " 19  PEILDATUM                  200433 non-null  datetime64[ns]\n",
      " 20  INSUFFICIENT_OBSERVATIONS  171510 non-null  float64       \n",
      "dtypes: datetime64[ns](1), float64(3), int64(3), object(14)\n",
      "memory usage: 32.1+ MB\n"
     ]
    }
   ],
   "source": [
    "df.info()"
   ]
  },
  {
   "cell_type": "code",
   "execution_count": 7,
   "metadata": {},
   "outputs": [],
   "source": [
    "df_features = df.drop(['ID','NAAM_VESTIGING','KVK_VESTIGING_NR','CODE_WACHTTIJD','LOCATIECODE','AGBCODE','STRAAT','POSTCODE','PLAATS','DATUM_ZORGBEELD','WEEK_DAGEN','JAARMAAND','PEILDATUM','INSUFFICIENT_OBSERVATIONS'], axis=1)"
   ]
  },
  {
   "cell_type": "code",
   "execution_count": 8,
   "metadata": {},
   "outputs": [
    {
     "data": {
      "text/html": [
       "<div>\n",
       "<style scoped>\n",
       "    .dataframe tbody tr th:only-of-type {\n",
       "        vertical-align: middle;\n",
       "    }\n",
       "\n",
       "    .dataframe tbody tr th {\n",
       "        vertical-align: top;\n",
       "    }\n",
       "\n",
       "    .dataframe thead th {\n",
       "        text-align: right;\n",
       "    }\n",
       "</style>\n",
       "<table border=\"1\" class=\"dataframe\">\n",
       "  <thead>\n",
       "    <tr style=\"text-align: right;\">\n",
       "      <th></th>\n",
       "      <th>TYPE_WACHTTIJD</th>\n",
       "      <th>WACHTTIJD</th>\n",
       "      <th>OMS_WACHTTIJD</th>\n",
       "      <th>SPECIALISME</th>\n",
       "      <th>ROAZ_REGIO</th>\n",
       "      <th>NAAM_INSTELLING</th>\n",
       "      <th>TYPE_ZORGINSTELLING</th>\n",
       "    </tr>\n",
       "  </thead>\n",
       "  <tbody>\n",
       "    <tr>\n",
       "      <th>0</th>\n",
       "      <td>Behandeling</td>\n",
       "      <td>90.0</td>\n",
       "      <td>Tonsillectomie en/of adenotomie (kno)</td>\n",
       "      <td>KNO (302)</td>\n",
       "      <td>Noord-NL</td>\n",
       "      <td>Wilhelmina Ziekenhuis</td>\n",
       "      <td>Ziekenhuis</td>\n",
       "    </tr>\n",
       "    <tr>\n",
       "      <th>1</th>\n",
       "      <td>Polikliniekbezoek</td>\n",
       "      <td>21.0</td>\n",
       "      <td>Orthopedie - Heupklachten</td>\n",
       "      <td>Orthopedie (305)</td>\n",
       "      <td>Oost</td>\n",
       "      <td>Stichting Rijnstate Ziekenhuis</td>\n",
       "      <td>Ziekenhuis</td>\n",
       "    </tr>\n",
       "    <tr>\n",
       "      <th>2</th>\n",
       "      <td>Behandeling</td>\n",
       "      <td>166.0</td>\n",
       "      <td>Initiële staaroperatie (oogheelkunde)</td>\n",
       "      <td>Oogheelkunde (301)</td>\n",
       "      <td>SpzNet AMC</td>\n",
       "      <td>Stichting Dijklander Ziekenhuis</td>\n",
       "      <td>Ziekenhuis</td>\n",
       "    </tr>\n",
       "    <tr>\n",
       "      <th>3</th>\n",
       "      <td>Behandeling</td>\n",
       "      <td>14.0</td>\n",
       "      <td>Triggerfingerrelease (plastische chirurgie)</td>\n",
       "      <td>Plastische Chirurgie (304)</td>\n",
       "      <td>Brabant</td>\n",
       "      <td>Xpert Clinics Hand- en polszorg B.V.</td>\n",
       "      <td>Kliniek</td>\n",
       "    </tr>\n",
       "    <tr>\n",
       "      <th>4</th>\n",
       "      <td>Polikliniekbezoek</td>\n",
       "      <td>28.0</td>\n",
       "      <td>Chirurgie (heelkunde) - Proctologie</td>\n",
       "      <td>Chirurgie (heelkunde) (303)</td>\n",
       "      <td>Noord-NL</td>\n",
       "      <td>Ziekenhuis Nij Smellinghe</td>\n",
       "      <td>Ziekenhuis</td>\n",
       "    </tr>\n",
       "  </tbody>\n",
       "</table>\n",
       "</div>"
      ],
      "text/plain": [
       "      TYPE_WACHTTIJD  WACHTTIJD                                OMS_WACHTTIJD  \\\n",
       "0        Behandeling       90.0        Tonsillectomie en/of adenotomie (kno)   \n",
       "1  Polikliniekbezoek       21.0                    Orthopedie - Heupklachten   \n",
       "2        Behandeling      166.0        Initiële staaroperatie (oogheelkunde)   \n",
       "3        Behandeling       14.0  Triggerfingerrelease (plastische chirurgie)   \n",
       "4  Polikliniekbezoek       28.0          Chirurgie (heelkunde) - Proctologie   \n",
       "\n",
       "                   SPECIALISME  ROAZ_REGIO  \\\n",
       "0                    KNO (302)    Noord-NL   \n",
       "1             Orthopedie (305)        Oost   \n",
       "2           Oogheelkunde (301)  SpzNet AMC   \n",
       "3   Plastische Chirurgie (304)     Brabant   \n",
       "4  Chirurgie (heelkunde) (303)    Noord-NL   \n",
       "\n",
       "                         NAAM_INSTELLING TYPE_ZORGINSTELLING  \n",
       "0                  Wilhelmina Ziekenhuis          Ziekenhuis  \n",
       "1         Stichting Rijnstate Ziekenhuis          Ziekenhuis  \n",
       "2        Stichting Dijklander Ziekenhuis          Ziekenhuis  \n",
       "3  Xpert Clinics Hand- en polszorg B.V.              Kliniek  \n",
       "4              Ziekenhuis Nij Smellinghe          Ziekenhuis  "
      ]
     },
     "execution_count": 8,
     "metadata": {},
     "output_type": "execute_result"
    }
   ],
   "source": [
    "df_features.head(5)"
   ]
  },
  {
   "cell_type": "code",
   "execution_count": 9,
   "metadata": {},
   "outputs": [
    {
     "data": {
      "text/html": [
       "<div>\n",
       "<style scoped>\n",
       "    .dataframe tbody tr th:only-of-type {\n",
       "        vertical-align: middle;\n",
       "    }\n",
       "\n",
       "    .dataframe tbody tr th {\n",
       "        vertical-align: top;\n",
       "    }\n",
       "\n",
       "    .dataframe thead th {\n",
       "        text-align: right;\n",
       "    }\n",
       "</style>\n",
       "<table border=\"1\" class=\"dataframe\">\n",
       "  <thead>\n",
       "    <tr style=\"text-align: right;\">\n",
       "      <th></th>\n",
       "      <th>WACHTTIJD</th>\n",
       "    </tr>\n",
       "    <tr>\n",
       "      <th>OMS_WACHTTIJD</th>\n",
       "      <th></th>\n",
       "    </tr>\n",
       "  </thead>\n",
       "  <tbody>\n",
       "    <tr>\n",
       "      <th>(Vaat)chirurgische behandeling spataderen (heelkunde)</th>\n",
       "      <td>32.0</td>\n",
       "    </tr>\n",
       "    <tr>\n",
       "      <th>Ablatie (cardiologie)</th>\n",
       "      <td>80.0</td>\n",
       "    </tr>\n",
       "    <tr>\n",
       "      <th>Anesthesiologie / Pijnbestrijding</th>\n",
       "      <td>21.0</td>\n",
       "    </tr>\n",
       "    <tr>\n",
       "      <th>Anti-snurkbehandeling (CPAP, operatieve behandeling) (kno)</th>\n",
       "      <td>32.0</td>\n",
       "    </tr>\n",
       "    <tr>\n",
       "      <th>Apexresectie(s) (kaakchirurgie)</th>\n",
       "      <td>28.0</td>\n",
       "    </tr>\n",
       "    <tr>\n",
       "      <th>...</th>\n",
       "      <td>...</td>\n",
       "    </tr>\n",
       "    <tr>\n",
       "      <th>Transgender zorg</th>\n",
       "      <td>70.0</td>\n",
       "    </tr>\n",
       "    <tr>\n",
       "      <th>Triggerfingerrelease (plastische chirurgie)</th>\n",
       "      <td>21.0</td>\n",
       "    </tr>\n",
       "    <tr>\n",
       "      <th>Urologie - algemeen</th>\n",
       "      <td>35.0</td>\n",
       "    </tr>\n",
       "    <tr>\n",
       "      <th>Vergruizing niersteen (urologie)</th>\n",
       "      <td>27.0</td>\n",
       "    </tr>\n",
       "    <tr>\n",
       "      <th>Volumereductieoperatie maag bij overgewicht (heelkunde)</th>\n",
       "      <td>90.0</td>\n",
       "    </tr>\n",
       "  </tbody>\n",
       "</table>\n",
       "<p>120 rows × 1 columns</p>\n",
       "</div>"
      ],
      "text/plain": [
       "                                                    WACHTTIJD\n",
       "OMS_WACHTTIJD                                                \n",
       "(Vaat)chirurgische behandeling spataderen (heel...       32.0\n",
       "Ablatie (cardiologie)                                    80.0\n",
       "Anesthesiologie / Pijnbestrijding                        21.0\n",
       "Anti-snurkbehandeling (CPAP, operatieve behande...       32.0\n",
       "Apexresectie(s) (kaakchirurgie)                          28.0\n",
       "...                                                       ...\n",
       "Transgender zorg                                         70.0\n",
       "Triggerfingerrelease (plastische chirurgie)              21.0\n",
       "Urologie - algemeen                                      35.0\n",
       "Vergruizing niersteen (urologie)                         27.0\n",
       "Volumereductieoperatie maag bij overgewicht (he...       90.0\n",
       "\n",
       "[120 rows x 1 columns]"
      ]
     },
     "execution_count": 9,
     "metadata": {},
     "output_type": "execute_result"
    }
   ],
   "source": [
    "# Determine how to fill in the missing values.\n",
    "# We think the missing values should be replaced with the mean of the column.\n",
    "df_features.groupby('OMS_WACHTTIJD').median('WACHTTIJD')"
   ]
  },
  {
   "cell_type": "code",
   "execution_count": 10,
   "metadata": {},
   "outputs": [],
   "source": [
    "# Fill in missing values with the median. This seems to be the best way to fill in the missing values.\n",
    "df_features['WACHTTIJD'] = df_features.groupby('OMS_WACHTTIJD')['WACHTTIJD'].transform(lambda x: x.fillna(x.median()))"
   ]
  },
  {
   "cell_type": "code",
   "execution_count": 11,
   "metadata": {},
   "outputs": [
    {
     "name": "stdout",
     "output_type": "stream",
     "text": [
      "<class 'pandas.core.frame.DataFrame'>\n",
      "Int64Index: 155 entries, 296 to 196780\n",
      "Data columns (total 7 columns):\n",
      " #   Column               Non-Null Count  Dtype  \n",
      "---  ------               --------------  -----  \n",
      " 0   TYPE_WACHTTIJD       155 non-null    object \n",
      " 1   WACHTTIJD            155 non-null    float64\n",
      " 2   OMS_WACHTTIJD        155 non-null    object \n",
      " 3   SPECIALISME          155 non-null    object \n",
      " 4   ROAZ_REGIO           155 non-null    object \n",
      " 5   NAAM_INSTELLING      155 non-null    object \n",
      " 6   TYPE_ZORGINSTELLING  155 non-null    object \n",
      "dtypes: float64(1), object(6)\n",
      "memory usage: 9.7+ KB\n"
     ]
    }
   ],
   "source": [
    "# Find outliers in wachttijd.\n",
    "df_features[df_features['WACHTTIJD'] > 500].info()"
   ]
  },
  {
   "cell_type": "code",
   "execution_count": 12,
   "metadata": {},
   "outputs": [],
   "source": [
    "# Remove outlier observations\n",
    "# After checking zorgkaart nederland, we found that this can happen for real.\n",
    "# df_cleaned = df_features[df_features['WACHTTIJD'] < 500]"
   ]
  },
  {
   "cell_type": "code",
   "execution_count": 20,
   "metadata": {},
   "outputs": [],
   "source": [
    "# df_features['WACHTTIJD'] = df_features.groupby('OMS_WACHTTIJD')['WACHTTIJD'].transform(lambda x: x.fillna(x.median()))"
   ]
  },
  {
   "cell_type": "code",
   "execution_count": null,
   "metadata": {},
   "outputs": [],
   "source": [
    "df_features.dropna(subset=['WACHTTIJD'], inplace=True)"
   ]
  },
  {
   "cell_type": "code",
   "execution_count": 21,
   "metadata": {},
   "outputs": [],
   "source": [
    "# Fix missing value for Heartlife, it turns out to be a Kliniek!\n",
    "df_features['TYPE_ZORGINSTELLING'].fillna('Kliniek', inplace=True)"
   ]
  },
  {
   "cell_type": "code",
   "execution_count": 23,
   "metadata": {},
   "outputs": [
    {
     "name": "stderr",
     "output_type": "stream",
     "text": [
      "Summarize dataset: 100%|██████████| 21/21 [00:03<00:00,  6.10it/s, Completed]                           \n",
      "Generate report structure: 100%|██████████| 1/1 [00:01<00:00,  1.96s/it]\n",
      "Render widgets:   0%|          | 0/1 [00:00<?, ?it/s]"
     ]
    },
    {
     "name": "stderr",
     "output_type": "stream",
     "text": [
      "                                                             \r"
     ]
    },
    {
     "data": {
      "application/vnd.jupyter.widget-view+json": {
       "model_id": "2c54d3b7a59f4a29a62484e9843ea078",
       "version_major": 2,
       "version_minor": 0
      },
      "text/plain": [
       "VBox(children=(Tab(children=(Tab(children=(GridBox(children=(VBox(children=(GridspecLayout(children=(HTML(valu…"
      ]
     },
     "metadata": {},
     "output_type": "display_data"
    }
   ],
   "source": [
    "profile = ProfileReport(df_features, title=\"Feature profiling report\")\n",
    "profile.to_widgets()"
   ]
  },
  {
   "cell_type": "code",
   "execution_count": 16,
   "metadata": {},
   "outputs": [],
   "source": [
    "df_cleaned.to_csv('../data/preprocessed.csv', header=True, index=False)"
   ]
  },
  {
   "cell_type": "code",
   "execution_count": null,
   "metadata": {},
   "outputs": [],
   "source": []
  }
 ],
 "metadata": {
  "kernelspec": {
   "display_name": "Python 3.9.7 64-bit",
   "language": "python",
   "name": "python3"
  },
  "language_info": {
   "codemirror_mode": {
    "name": "ipython",
    "version": 3
   },
   "file_extension": ".py",
   "mimetype": "text/x-python",
   "name": "python",
   "nbconvert_exporter": "python",
   "pygments_lexer": "ipython3",
   "version": "3.9.7"
  },
  "orig_nbformat": 4,
  "vscode": {
   "interpreter": {
    "hash": "86360395df825f2a326494bc1a25db59f819e9c4a571481b8a6b296aee567eac"
   }
  }
 },
 "nbformat": 4,
 "nbformat_minor": 2
}
