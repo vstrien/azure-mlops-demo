{
 "cells": [
  {
   "cell_type": "code",
   "execution_count": 2,
   "metadata": {},
   "outputs": [],
   "source": [
    "import sys\n",
    "import os\n",
    "from json import load, dump\n",
    "\n",
    "import pandas as pd\n",
    "from sklearn.model_selection import train_test_split\n",
    "from interpret.glassbox import ExplainableBoostingRegressor\n",
    "from interpret import show"
   ]
  },
  {
   "cell_type": "code",
   "execution_count": 3,
   "metadata": {},
   "outputs": [],
   "source": [
    "df_original = pd.read_csv('../data/preprocessed.csv')"
   ]
  },
  {
   "cell_type": "code",
   "execution_count": 4,
   "metadata": {},
   "outputs": [
    {
     "data": {
      "text/html": [
       "<div>\n",
       "<style scoped>\n",
       "    .dataframe tbody tr th:only-of-type {\n",
       "        vertical-align: middle;\n",
       "    }\n",
       "\n",
       "    .dataframe tbody tr th {\n",
       "        vertical-align: top;\n",
       "    }\n",
       "\n",
       "    .dataframe thead th {\n",
       "        text-align: right;\n",
       "    }\n",
       "</style>\n",
       "<table border=\"1\" class=\"dataframe\">\n",
       "  <thead>\n",
       "    <tr style=\"text-align: right;\">\n",
       "      <th></th>\n",
       "      <th>TYPE_WACHTTIJD</th>\n",
       "      <th>WACHTTIJD</th>\n",
       "      <th>OMS_WACHTTIJD</th>\n",
       "      <th>SPECIALISME</th>\n",
       "      <th>ROAZ_REGIO</th>\n",
       "      <th>NAAM_INSTELLING</th>\n",
       "      <th>TYPE_ZORGINSTELLING</th>\n",
       "    </tr>\n",
       "  </thead>\n",
       "  <tbody>\n",
       "    <tr>\n",
       "      <th>0</th>\n",
       "      <td>Behandeling</td>\n",
       "      <td>90.0</td>\n",
       "      <td>Tonsillectomie en/of adenotomie (kno)</td>\n",
       "      <td>KNO (302)</td>\n",
       "      <td>Noord-NL</td>\n",
       "      <td>Wilhelmina Ziekenhuis</td>\n",
       "      <td>Ziekenhuis</td>\n",
       "    </tr>\n",
       "    <tr>\n",
       "      <th>1</th>\n",
       "      <td>Polikliniekbezoek</td>\n",
       "      <td>21.0</td>\n",
       "      <td>Orthopedie - Heupklachten</td>\n",
       "      <td>Orthopedie (305)</td>\n",
       "      <td>Oost</td>\n",
       "      <td>Stichting Rijnstate Ziekenhuis</td>\n",
       "      <td>Ziekenhuis</td>\n",
       "    </tr>\n",
       "    <tr>\n",
       "      <th>2</th>\n",
       "      <td>Behandeling</td>\n",
       "      <td>166.0</td>\n",
       "      <td>Initiële staaroperatie (oogheelkunde)</td>\n",
       "      <td>Oogheelkunde (301)</td>\n",
       "      <td>SpzNet AMC</td>\n",
       "      <td>Stichting Dijklander Ziekenhuis</td>\n",
       "      <td>Ziekenhuis</td>\n",
       "    </tr>\n",
       "    <tr>\n",
       "      <th>3</th>\n",
       "      <td>Behandeling</td>\n",
       "      <td>14.0</td>\n",
       "      <td>Triggerfingerrelease (plastische chirurgie)</td>\n",
       "      <td>Plastische Chirurgie (304)</td>\n",
       "      <td>Brabant</td>\n",
       "      <td>Xpert Clinics Hand- en polszorg B.V.</td>\n",
       "      <td>Kliniek</td>\n",
       "    </tr>\n",
       "    <tr>\n",
       "      <th>4</th>\n",
       "      <td>Polikliniekbezoek</td>\n",
       "      <td>28.0</td>\n",
       "      <td>Chirurgie (heelkunde) - Proctologie</td>\n",
       "      <td>Chirurgie (heelkunde) (303)</td>\n",
       "      <td>Noord-NL</td>\n",
       "      <td>Ziekenhuis Nij Smellinghe</td>\n",
       "      <td>Ziekenhuis</td>\n",
       "    </tr>\n",
       "  </tbody>\n",
       "</table>\n",
       "</div>"
      ],
      "text/plain": [
       "      TYPE_WACHTTIJD  WACHTTIJD                                OMS_WACHTTIJD  \\\n",
       "0        Behandeling       90.0        Tonsillectomie en/of adenotomie (kno)   \n",
       "1  Polikliniekbezoek       21.0                    Orthopedie - Heupklachten   \n",
       "2        Behandeling      166.0        Initiële staaroperatie (oogheelkunde)   \n",
       "3        Behandeling       14.0  Triggerfingerrelease (plastische chirurgie)   \n",
       "4  Polikliniekbezoek       28.0          Chirurgie (heelkunde) - Proctologie   \n",
       "\n",
       "                   SPECIALISME  ROAZ_REGIO  \\\n",
       "0                    KNO (302)    Noord-NL   \n",
       "1             Orthopedie (305)        Oost   \n",
       "2           Oogheelkunde (301)  SpzNet AMC   \n",
       "3   Plastische Chirurgie (304)     Brabant   \n",
       "4  Chirurgie (heelkunde) (303)    Noord-NL   \n",
       "\n",
       "                         NAAM_INSTELLING TYPE_ZORGINSTELLING  \n",
       "0                  Wilhelmina Ziekenhuis          Ziekenhuis  \n",
       "1         Stichting Rijnstate Ziekenhuis          Ziekenhuis  \n",
       "2        Stichting Dijklander Ziekenhuis          Ziekenhuis  \n",
       "3  Xpert Clinics Hand- en polszorg B.V.              Kliniek  \n",
       "4              Ziekenhuis Nij Smellinghe          Ziekenhuis  "
      ]
     },
     "execution_count": 4,
     "metadata": {},
     "output_type": "execute_result"
    }
   ],
   "source": [
    "df_original.head()"
   ]
  },
  {
   "cell_type": "code",
   "execution_count": 5,
   "metadata": {},
   "outputs": [],
   "source": [
    "df_train, df_test = train_test_split(df_original, test_size=0.2)\n",
    "\n",
    "df_train_output = df_train[['WACHTTIJD']]\n",
    "df_train_inputs = df_train.drop(['WACHTTIJD','NAAM_INSTELLING'], axis=1)\n",
    "\n",
    "df_test_output = df_test[['WACHTTIJD']]\n",
    "df_test_inputs = df_test.drop(['WACHTTIJD','NAAM_INSTELLING'], axis=1)"
   ]
  },
  {
   "cell_type": "code",
   "execution_count": 6,
   "metadata": {},
   "outputs": [
    {
     "data": {
      "text/plain": [
       "0.3479381371921183"
      ]
     },
     "execution_count": 6,
     "metadata": {},
     "output_type": "execute_result"
    }
   ],
   "source": [
    "model = ExplainableBoostingRegressor(feature_names=df_train_inputs.columns)\n",
    "model.fit(df_train_inputs.to_numpy(), df_train_output.to_numpy())\n",
    "model.score(df_test_inputs.to_numpy(), df_test_output.to_numpy())"
   ]
  },
  {
   "cell_type": "code",
   "execution_count": 7,
   "metadata": {},
   "outputs": [
    {
     "name": "stderr",
     "output_type": "stream",
     "text": [
      "c:\\Users\\willemm\\AppData\\Local\\Programs\\Python\\Python39\\lib\\site-packages\\interpret\\visual\\udash.py:5: UserWarning: \n",
      "The dash_html_components package is deprecated. Please replace\n",
      "`import dash_html_components as html` with `from dash import html`\n",
      "  import dash_html_components as html\n",
      "c:\\Users\\willemm\\AppData\\Local\\Programs\\Python\\Python39\\lib\\site-packages\\interpret\\visual\\udash.py:6: UserWarning: \n",
      "The dash_core_components package is deprecated. Please replace\n",
      "`import dash_core_components as dcc` with `from dash import dcc`\n",
      "  import dash_core_components as dcc\n",
      "c:\\Users\\willemm\\AppData\\Local\\Programs\\Python\\Python39\\lib\\site-packages\\interpret\\visual\\udash.py:7: UserWarning: \n",
      "The dash_table package is deprecated. Please replace\n",
      "`import dash_table` with `from dash import dash_table`\n",
      "\n",
      "Also, if you're using any of the table format helpers (e.g. Group), replace \n",
      "`from dash_table.Format import Group` with \n",
      "`from dash.dash_table.Format import Group`\n",
      "  import dash_table as dt\n"
     ]
    },
    {
     "data": {
      "text/html": [
       "<!-- http://127.0.0.1:7001/2721651267328/ -->\n",
       "<a href=\"http://127.0.0.1:7001/2721651267328/\" target=\"_new\">Open in new window</a><iframe src=\"http://127.0.0.1:7001/2721651267328/\" width=100% height=800 frameBorder=\"0\"></iframe>"
      ]
     },
     "metadata": {},
     "output_type": "display_data"
    }
   ],
   "source": [
    "ebm_global = model.explain_global()\n",
    "ebm_local = model.explain_local(df_test_inputs.to_numpy(), df_test_output.to_numpy())\n",
    "\n",
    "show([ebm_global, ebm_local])"
   ]
  },
  {
   "cell_type": "code",
   "execution_count": 14,
   "metadata": {},
   "outputs": [],
   "source": [
    "model_data = get_model_data(model)\n",
    "sample_data = get_sample_data(model, df_test_inputs.to_numpy(), df_test_output.to_numpy())\n",
    "\n",
    "dump(model_data, open('./model.json', 'w'))\n",
    "dump(sample_data, open('./sample.json', 'w'))"
   ]
  }
 ],
 "metadata": {
  "kernelspec": {
   "display_name": "Python 3.9.7 64-bit",
   "language": "python",
   "name": "python3"
  },
  "language_info": {
   "codemirror_mode": {
    "name": "ipython",
    "version": 3
   },
   "file_extension": ".py",
   "mimetype": "text/x-python",
   "name": "python",
   "nbconvert_exporter": "python",
   "pygments_lexer": "ipython3",
   "version": "3.9.7"
  },
  "orig_nbformat": 4,
  "vscode": {
   "interpreter": {
    "hash": "86360395df825f2a326494bc1a25db59f819e9c4a571481b8a6b296aee567eac"
   }
  }
 },
 "nbformat": 4,
 "nbformat_minor": 2
}
